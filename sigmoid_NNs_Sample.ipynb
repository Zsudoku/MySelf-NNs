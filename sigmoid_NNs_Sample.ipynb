{
 "cells": [
  {
   "cell_type": "markdown",
   "metadata": {},
   "source": [
    "![](file:///c%3A/Users/20987/Desktop/MySelf-NNs/MySelf-NNs/Sample.png)\n",
    "\n",
    "在这个神经元中，输入总共经历了3步数学运算，先将两个输入乘以权重（weight）：\n",
    "x1→x1 × w1x2→x2 × w2\n",
    "把两个结果想加，再加上一个偏置（bias）：\n",
    "（x1 × w1）+（x2 × w2）+ b\n",
    "最后将它们经过激活函数（activation function）处理得到输出：\n",
    "y = f(x1 × w1 + x2 × w2 + b)\n",
    "激活函数的作用是将无限制的输入转换为可预测形式的输出。一种常用的激活函数是sigmoid函数：\n",
    "\n",
    "sigmoid函数的输出介于0和1，我们可以理解为它把 (−∞,+∞) 范围内的数压缩到 (0, 1)以内。正值越大输出越接近1，负向数值越大输出越接近0。\n",
    "举个例子，上面神经元里的权重和偏置取如下数值：\n",
    "w=[0,1]b = 4w=[0,1]\n",
    "是w1=0、w2=1的向量形式写法。\n",
    "\n",
    "给神经元一个输入x=[2,3]，可以用向量点积的形式把神经元的输出计算出来：\n",
    "w·x+b =（x1 × w1）+（x2 × w2）+ b = 0×2+1×3+4=7\n",
    "y=f(w⋅X+b)=f(7)=0.999\n",
    "\n"
   ]
  },
  {
   "cell_type": "code",
   "execution_count": 1,
   "metadata": {},
   "outputs": [],
   "source": [
    "import numpy as np"
   ]
  },
  {
   "cell_type": "code",
   "execution_count": 2,
   "metadata": {},
   "outputs": [],
   "source": [
    "def sigmoid(x):\n",
    "    ## Our activation function: f(x) = 1 / (1 + e^(-x))\n",
    "    return 1 / (1 + np.exp(-x))"
   ]
  },
  {
   "cell_type": "code",
   "execution_count": 3,
   "metadata": {},
   "outputs": [],
   "source": [
    "class Neuron:\n",
    "    def __init__(self,weights,bias):\n",
    "        #构造函数\n",
    "        self.weights = weights\n",
    "        self.bias = bias\n",
    "    \n",
    "    def feedforward(self,inputs):\n",
    "        # 权重输入，使用激活函数\n",
    "        total = np.dot(self.weights , inputs) + self.bias\n",
    "        return sigmoid(total)\n",
    "    "
   ]
  },
  {
   "cell_type": "code",
   "execution_count": 4,
   "metadata": {},
   "outputs": [
    {
     "name": "stdout",
     "output_type": "stream",
     "text": [
      "0.9990889488055994\n"
     ]
    }
   ],
   "source": [
    "weights = np.array([0,1]) # w1 = 0,w2 = 1\n",
    "bias = 4\n",
    "n = Neuron(weights, bias)\n",
    "\n",
    "x = np.array([2,3])\n",
    "print(n.feedforward(x))\n",
    "    "
   ]
  },
  {
   "cell_type": "markdown",
   "metadata": {},
   "source": []
  }
 ],
 "metadata": {
  "kernelspec": {
   "display_name": "Python 3.8.1 64-bit",
   "language": "python",
   "name": "python3"
  },
  "language_info": {
   "codemirror_mode": {
    "name": "ipython",
    "version": 3
   },
   "file_extension": ".py",
   "mimetype": "text/x-python",
   "name": "python",
   "nbconvert_exporter": "python",
   "pygments_lexer": "ipython3",
   "version": "3.8.1"
  },
  "orig_nbformat": 4,
  "vscode": {
   "interpreter": {
    "hash": "33d73dfb9d58d1e4c0ed15f266f7c1fd1b5e79268076ebae9c660cb33abbd60e"
   }
  }
 },
 "nbformat": 4,
 "nbformat_minor": 2
}
